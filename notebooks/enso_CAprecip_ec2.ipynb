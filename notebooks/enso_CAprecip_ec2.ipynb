{
 "cells": [
  {
   "cell_type": "markdown",
   "metadata": {},
   "source": [
    "# Nino3.4 and California DJF precip correlation : emergent constraint in CMIP6? \n",
    "### from Allen & Lupowitz (2017) DOI: 10.1038/ncomms16055"
   ]
  },
  {
   "cell_type": "code",
   "execution_count": 1,
   "metadata": {},
   "outputs": [],
   "source": [
    "#!pip install -u geopandas\n",
    "#!pip install -u regionmask"
   ]
  },
  {
   "cell_type": "code",
   "execution_count": 2,
   "metadata": {},
   "outputs": [
    {
     "name": "stdout",
     "output_type": "stream",
     "text": [
      "you have successfully imported the jet latitude calculation subroutines\n"
     ]
    }
   ],
   "source": [
    "# Loading libraries\n",
    "%matplotlib inline\n",
    "import matplotlib.pyplot as plt\n",
    "import numpy as np\n",
    "import xarray as xr\n",
    "import xesmf as xe\n",
    "import dask\n",
    "import season_util as su\n",
    "import jetlatcalcs as jlat\n",
    "import mask"
   ]
  },
  {
   "cell_type": "code",
   "execution_count": 3,
   "metadata": {},
   "outputs": [],
   "source": [
    "import warnings\n",
    "warnings.filterwarnings(\"ignore\")"
   ]
  },
  {
   "cell_type": "markdown",
   "metadata": {},
   "source": [
    "#### Find/read ts data:"
   ]
  },
  {
   "cell_type": "code",
   "execution_count": 4,
   "metadata": {},
   "outputs": [
    {
     "name": "stdout",
     "output_type": "stream",
     "text": [
      "--> The keys in the returned dictionary of datasets are constructed as follows:\n",
      "\t'activity_id.institution_id.source_id.experiment_id.table_id.grid_label'\n",
      "\n",
      "--> There will be 7 group(s)\n"
     ]
    }
   ],
   "source": [
    "#historical simulations\n",
    "import intake\n",
    "var1 = [\"ts\"]\n",
    "model=['AWI-CM-1-MR','BCC-CSM2-MR','CAMS-CSM1-0', 'CanESM5','MIROC-ES2L','MIROC6','UKESM1-0-LL','MRI-ESM2-0']\n",
    "col = intake.open_esm_datastore(\"/glade/collections/cmip/catalog/intake-esm-datastore/catalogs/glade-cmip6.json\")\n",
    "cat = col.search(activity_id=\"CMIP\",experiment_id=\"historical\", variable_id=var1,\n",
    "table_id=\"Amon\", grid_label=\"gn\", source_id=model )\n",
    "dset_dict_hist_ts = cat.to_dataset_dict(cdf_kwargs={'chunks': {\"time\": 36}})"
   ]
  },
  {
   "cell_type": "code",
   "execution_count": 5,
   "metadata": {},
   "outputs": [],
   "source": [
    "#ssp simulations\n",
    "#col = intake.open_esm_datastore(\"/glade/collections/cmip/catalog/intake-esm-datastore/catalogs/glade-cmip6.json\")\n",
    "#cat = col.search(activity_id=\"ScenarioMIP\",experiment_id=\"ssp370\", variable_id=var1,\n",
    "#table_id=\"Amon\", grid_label=\"gn\", source_id=model )\n",
    "#dset_dict_ssp370_ts = cat.to_dataset_dict(cdf_kwargs={'chunks': {\"time\": 36}})"
   ]
  },
  {
   "cell_type": "markdown",
   "metadata": {},
   "source": [
    "#### Calculate Nino3.4 time series:"
   ]
  },
  {
   "cell_type": "code",
   "execution_count": 6,
   "metadata": {},
   "outputs": [],
   "source": [
    "#subset for time period (1948 through 2014)\n",
    "hist_ts = {}\n",
    "for key, ds in dset_dict_hist_ts.items():\n",
    "    hist_ts[key] = ds.sel(time = slice('1948-01-01','2015-01-01'))"
   ]
  },
  {
   "cell_type": "code",
   "execution_count": 7,
   "metadata": {},
   "outputs": [],
   "source": [
    "from nino34 import nino34"
   ]
  },
  {
   "cell_type": "code",
   "execution_count": 8,
   "metadata": {},
   "outputs": [
    {
     "name": "stdout",
     "output_type": "stream",
     "text": [
      "CMIP.BCC.BCC-CSM2-MR.historical.Amon.gn\n",
      "CMIP.CAMS.CAMS-CSM1-0.historical.Amon.gn\n",
      "CMIP.CCCma.CanESM5.historical.Amon.gn\n",
      "CMIP.MIROC.MIROC-ES2L.historical.Amon.gn\n",
      "CMIP.MIROC.MIROC6.historical.Amon.gn\n",
      "CMIP.MOHC.UKESM1-0-LL.historical.Amon.gn\n",
      "CMIP.MRI.MRI-ESM2-0.historical.Amon.gn\n"
     ]
    }
   ],
   "source": [
    "# usage: nino = nino34(da,'ts','DJF')\n",
    "hist_nino = {}\n",
    "for key in hist_ts:\n",
    "    print(key)\n",
    "    # calculate index and drop first year!\n",
    "    hist_nino[key] = nino34(hist_ts[key], 'ts', 'DJF')\n",
    "    ## add days per month weighting in DJF calc"
   ]
  },
  {
   "cell_type": "markdown",
   "metadata": {},
   "source": [
    "#### Find/read pr data:"
   ]
  },
  {
   "cell_type": "code",
   "execution_count": 9,
   "metadata": {},
   "outputs": [
    {
     "name": "stdout",
     "output_type": "stream",
     "text": [
      "--> The keys in the returned dictionary of datasets are constructed as follows:\n",
      "\t'activity_id.institution_id.source_id.experiment_id.table_id.grid_label'\n",
      "\n",
      "--> There will be 7 group(s)\n"
     ]
    }
   ],
   "source": [
    "#historical simulations\n",
    "import intake\n",
    "var2 = [\"pr\"]\n",
    "model=['AWI-CM-1-MR','BCC-CSM2-MR','CAMS-CSM1-0', 'CanESM5','MIROC-ES2L','MIROC6','UKESM1-0-LL','MRI-ESM2-0']\n",
    "col = intake.open_esm_datastore(\"/glade/collections/cmip/catalog/intake-esm-datastore/catalogs/glade-cmip6.json\")\n",
    "cat = col.search(activity_id=\"CMIP\",experiment_id=\"historical\", variable_id=var2,\n",
    "table_id=\"Amon\", grid_label=\"gn\", source_id=model )\n",
    "dset_dict_hist = cat.to_dataset_dict(cdf_kwargs={'chunks': {\"time\": 36}})"
   ]
  },
  {
   "cell_type": "code",
   "execution_count": null,
   "metadata": {},
   "outputs": [
    {
     "name": "stdout",
     "output_type": "stream",
     "text": [
      "--> The keys in the returned dictionary of datasets are constructed as follows:\n",
      "\t'activity_id.institution_id.source_id.experiment_id.table_id.grid_label'\n",
      "\n",
      "--> There will be 7 group(s)\n"
     ]
    }
   ],
   "source": [
    "#ssp simulations\n",
    "col = intake.open_esm_datastore(\"/glade/collections/cmip/catalog/intake-esm-datastore/catalogs/glade-cmip6.json\")\n",
    "cat = col.search(activity_id=\"ScenarioMIP\",experiment_id=\"ssp370\", variable_id=var2,\n",
    "table_id=\"Amon\", grid_label=\"gn\", source_id=model )\n",
    "dset_dict_ssp370 = cat.to_dataset_dict(cdf_kwargs={'chunks': {\"time\": 36}})"
   ]
  },
  {
   "cell_type": "code",
   "execution_count": null,
   "metadata": {},
   "outputs": [],
   "source": [
    "#subset for time period (1948 through 2014)\n",
    "hist = {}\n",
    "for key, ds in dset_dict_hist.items():\n",
    "    hist[key] = ds.sel(time = slice('1948-01-01','2015-01-01'))"
   ]
  },
  {
   "cell_type": "markdown",
   "metadata": {},
   "source": [
    "#### Calculate DJF precip time series for California:"
   ]
  },
  {
   "cell_type": "code",
   "execution_count": null,
   "metadata": {},
   "outputs": [],
   "source": [
    "hist_ca_pr = {}\n",
    "for key in hist:\n",
    "    print(key)\n",
    "    ca_mask = mask.state_mask(mask.read_state(\"../data/states.shp\", 'California'), hist[key], 'California', 'CA')\n",
    "    # calculate CA DJF precip\n",
    "    hist_ca_pr[key] = su.season_ts((hist[key].where(ca_mask == 1)), \"pr\", \"DJF\").mean(dim=('lat', 'lon'))\n",
    "## add days per month weighting and areacella weighting"
   ]
  },
  {
   "cell_type": "markdown",
   "metadata": {},
   "source": [
    "## Detrend Nino3.4 and CA DJF precip timeseries"
   ]
  },
  {
   "cell_type": "code",
   "execution_count": null,
   "metadata": {},
   "outputs": [],
   "source": [
    "from scipy import signal"
   ]
  },
  {
   "cell_type": "code",
   "execution_count": null,
   "metadata": {},
   "outputs": [],
   "source": [
    "## compute for use in signal.detrend()\n",
    "hist_ca_pr = dask.compute(hist_ca_pr)\n",
    "hist_nino = dask.compute(hist_nino)"
   ]
  },
  {
   "cell_type": "code",
   "execution_count": null,
   "metadata": {},
   "outputs": [],
   "source": [
    "#for i in hist_ca_pr[0].keys():\n",
    "#    print(i)"
   ]
  },
  {
   "cell_type": "code",
   "execution_count": null,
   "metadata": {},
   "outputs": [],
   "source": [
    "ca_pr_dtr = {}\n",
    "for key in hist_ca_pr[0].keys():\n",
    "    print(key)\n",
    "    ca_pr_dtr[key] = xr.apply_ufunc(signal.detrend,\n",
    "                            hist_ca_pr[0][key][:,1:])"
   ]
  },
  {
   "cell_type": "code",
   "execution_count": null,
   "metadata": {},
   "outputs": [],
   "source": [
    "key = 'CMIP.BCC.BCC-CSM2-MR.historical.Amon.gn'\n",
    "hist_nino[0][key][:,1:]"
   ]
  },
  {
   "cell_type": "code",
   "execution_count": null,
   "metadata": {},
   "outputs": [],
   "source": [
    "nino_dtr = {}\n",
    "for key in hist_nino[0]:\n",
    "    #print(key)\n",
    "    nino_dtr[key] = xr.apply_ufunc(signal.detrend,\n",
    "                            hist_nino[0][key][:,1:])"
   ]
  },
  {
   "cell_type": "code",
   "execution_count": null,
   "metadata": {},
   "outputs": [],
   "source": [
    "hist_nino[0][key][:1,1:].plot()"
   ]
  },
  {
   "cell_type": "code",
   "execution_count": null,
   "metadata": {},
   "outputs": [],
   "source": [
    "nino_dtr[key][:1,0:].plot()"
   ]
  },
  {
   "cell_type": "markdown",
   "metadata": {},
   "source": [
    "#### Calculate interannual correlation between Nino3.4 and CA DJF precip: (TO DO)"
   ]
  },
  {
   "cell_type": "code",
   "execution_count": null,
   "metadata": {},
   "outputs": [],
   "source": [
    "#x = nino_dtr[key][2,:]\n",
    "#y = ca_pr_dtr[key][2,:]\n",
    "#print(x, y)\n",
    "#np.corrcoef(x,y)[0,1]"
   ]
  },
  {
   "cell_type": "code",
   "execution_count": null,
   "metadata": {},
   "outputs": [],
   "source": [
    "#plt.plot(x,y, linestyle = 'none', marker = 'o')"
   ]
  },
  {
   "cell_type": "code",
   "execution_count": null,
   "metadata": {},
   "outputs": [],
   "source": [
    "nino_dtr.keys()\n",
    "ca_pr_dtr[key]"
   ]
  },
  {
   "cell_type": "code",
   "execution_count": null,
   "metadata": {},
   "outputs": [],
   "source": [
    "hist_cor = {}\n",
    "for key in nino_dtr.keys():\n",
    "    print(key)\n",
    "    hist_cor[key] = xr.apply_ufunc(np.corrcoef, \n",
    "                                   nino_dtr[key], \n",
    "                                   ca_pr_dtr[key], \n",
    "                                  input_core_dims=([\"time\"]))"
   ]
  },
  {
   "cell_type": "code",
   "execution_count": null,
   "metadata": {},
   "outputs": [],
   "source": [
    "#key = 'CMIP.BCC.BCC-CSM2-MR.historical.Amon.gn'\n",
    "#test = xr.Dataset(nino_dtr[key]).merge(xr.Dataset(ca_pr_dtr[key]))"
   ]
  },
  {
   "cell_type": "code",
   "execution_count": null,
   "metadata": {},
   "outputs": [],
   "source": [
    "#hist_cor"
   ]
  },
  {
   "cell_type": "markdown",
   "metadata": {},
   "source": [
    "#### Calculate mean correlation across ensembles members within each model: (TO DO)"
   ]
  },
  {
   "cell_type": "code",
   "execution_count": null,
   "metadata": {},
   "outputs": [],
   "source": []
  },
  {
   "cell_type": "markdown",
   "metadata": {},
   "source": [
    "#### Calculate mean DJF precip in historical and future periods: "
   ]
  },
  {
   "cell_type": "code",
   "execution_count": null,
   "metadata": {},
   "outputs": [],
   "source": [
    "hist_mean = {}\n",
    "for key, ds in dset_dict_hist.items():\n",
    "    hist_mean[key] = su.season_mean(ds.sel(time = slice('1979-01-01','2006-01-01')),\n",
    "                                       var=\"pr\", season=\"DJF\").mean(dim=('member_id'))\n",
    "#hist_mean = list(hist_mean.values())\n",
    "    \n",
    "ssp370_mean = {}\n",
    "for key, ds in dset_dict_ssp370.items():\n",
    "    ssp370_mean[key] = su.season_mean(ds.sel(time = slice('2070-01-01','2099-01-01')),\n",
    "                                         var=\"pr\", season=\"DJF\").mean(dim=('member_id'))\n",
    "#ssp370_mean = list(ssp370_mean.values())\n"
   ]
  },
  {
   "cell_type": "code",
   "execution_count": null,
   "metadata": {
    "jupyter": {
     "source_hidden": true
    }
   },
   "outputs": [],
   "source": [
    "## CALCULATE CALIFORNIA AVERAGE PRECIP\n",
    "#hist_ca_mean = {}\n",
    "#for key, ds in dset_dict_hist.items():\n",
    "#    ca_mask = mask.state_mask(mask.read_state(\"../data/states.shp\", 'California'), ds, 'California', 'CA')\n",
    "#    hist_ca_mean[key] = su.season_mean(ds.sel(time = slice('1979-01-01','2006-01-01')).where(ca_mask==1),\n",
    "#                                       var=\"pr\", season=\"DJF\").mean(dim=('lat', 'lon','member_id'))\n",
    "#hist_ca_mean = list(hist_ca_mean.values())\n",
    "    \n",
    "#ssp370_ca_mean = {}\n",
    "#for key, ds in dset_dict_ssp370.items():\n",
    "#    ca_mask = mask.state_mask(mask.read_state(\"../data/states.shp\", 'California'), ds, 'California', 'CA')\n",
    "#    ssp370_ca_mean[key] = su.season_mean(ds.sel(time = slice('2070-01-01','2099-01-01')).where(ca_mask==1),\n",
    "#                                         var=\"pr\", season=\"DJF\").mean(dim=('lat', 'lon', member_id'))\n",
    "#ssp370_ca_mean = list(ssp370_ca_mean.values())"
   ]
  },
  {
   "cell_type": "markdown",
   "metadata": {},
   "source": [
    "## 2070-2099 Precip (SSP370) - 1979-2005 Precip"
   ]
  },
  {
   "cell_type": "code",
   "execution_count": null,
   "metadata": {},
   "outputs": [],
   "source": [
    "# load cartopy\n",
    "import cartopy.crs as ccrs\n",
    "\n",
    "extent = [-180, -70, 10, 70]\n",
    "central_lon = np.mean(extent[:2])\n",
    "central_lat = np.mean(extent[2:])\n",
    "fig = plt.figure(figsize=(20, 20))\n",
    "#ax = plt.axes(projection=ccrs.AlbersEqualArea(central_lon, central_lat))\n",
    "for key1, key2, i in zip(ssp370_mean, hist_mean, range(7)): \n",
    "    ax = fig.add_subplot(4, 2, (i+1), projection=ccrs.AlbersEqualArea(central_lon, central_lat))\n",
    "    s = (ssp370_mean[key1] - hist_mean[key2]).plot.pcolormesh(ax=ax, transform=ccrs.PlateCarree())\n",
    "    ax.set_extent(extent)\n",
    "    ax.coastlines()\n",
    "    ax.set_title(key1)\n"
   ]
  },
  {
   "cell_type": "code",
   "execution_count": null,
   "metadata": {},
   "outputs": [],
   "source": []
  },
  {
   "cell_type": "code",
   "execution_count": null,
   "metadata": {},
   "outputs": [],
   "source": []
  },
  {
   "cell_type": "code",
   "execution_count": null,
   "metadata": {},
   "outputs": [],
   "source": []
  }
 ],
 "metadata": {
  "kernelspec": {
   "display_name": "CMIP6 2019.10a",
   "language": "python",
   "name": "cmip6-201910a"
  },
  "language_info": {
   "codemirror_mode": {
    "name": "ipython",
    "version": 3
   },
   "file_extension": ".py",
   "mimetype": "text/x-python",
   "name": "python",
   "nbconvert_exporter": "python",
   "pygments_lexer": "ipython3",
   "version": "3.7.3"
  }
 },
 "nbformat": 4,
 "nbformat_minor": 4
}
